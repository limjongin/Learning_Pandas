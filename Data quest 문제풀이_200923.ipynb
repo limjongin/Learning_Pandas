{
 "cells": [
  {
   "cell_type": "markdown",
   "metadata": {},
   "source": [
    "## Data quest의 Pandas 문제풀이 1"
   ]
  },
  {
   "cell_type": "markdown",
   "metadata": {},
   "source": [
    "### Pandas 문제풀이 1-1\n",
    "\n",
    "We've already read the data set into a pandas dataframe and assigned it to a variable named f500.\n",
    "\n",
    "1. Use the DataFrame.head() method to select the first 10 rows in f500. Assign the result to f500_head.\n",
    "2. Use the DataFrame.info() method to display information about the dataframe."
   ]
  },
  {
   "cell_type": "code",
   "execution_count": null,
   "metadata": {},
   "outputs": [],
   "source": [
    "f500_head = f500.head(10)\n",
    "f500.info()"
   ]
  },
  {
   "cell_type": "markdown",
   "metadata": {},
   "source": [
    "### Pandas 문제풀이 1-2\n",
    "\n",
    "\n",
    "1. Subtract the values in the rank column from the values in the previous_rank column. Assign the result to rank_change."
   ]
  },
  {
   "cell_type": "code",
   "execution_count": null,
   "metadata": {},
   "outputs": [],
   "source": [
    "rank_change = f500['previous_rank']-f500['rank']"
   ]
  },
  {
   "cell_type": "markdown",
   "metadata": {},
   "source": [
    "### Pandas 문제풀이 1-3\n",
    "\n",
    "1. Use the Series.max() method to find the maximum value for the rank_change series. Assign the result to the variable rank_change_max.\n",
    "2. Use the Series.min() method to find the minimum value for the rank_change series. Assign the result to the variable rank_change_min.\n",
    "3. After running your code, use the variable inspector to view the new variable you created."
   ]
  },
  {
   "cell_type": "code",
   "execution_count": null,
   "metadata": {},
   "outputs": [],
   "source": [
    "rank_change =  f500[\"previous_rank\"] - f500[\"rank\"]\n",
    "rank_change_max = rank_change.max()\n",
    "rank_change_min = rank_change.min()"
   ]
  },
  {
   "cell_type": "markdown",
   "metadata": {},
   "source": [
    "### Pandas 문제풀이 1-4\n",
    "\n",
    "1. Return a series of descriptive statistics for the rank column in f500.\n",
    "\n",
    "** Select the rank column. Assign it to a variable named rank.\n",
    "\n",
    "** Use the Series.describe() method to return a series of statistics for rank. Assign the result to rank_desc.\n",
    "\n",
    "2. Return a series of descriptive statistics for the previous_rank column in f500.\n",
    "\n",
    "** Select the previous_rank column. Assign it to a variable named prev_rank.\n",
    "\n",
    "** Use the Series.describe() method to return a series of statistics for prev_rank.\n",
    "\n",
    "** Assign the result to prev_rank_desc.\n",
    "\n",
    "3. After you have run your code, use the variable inspector to view each of the new variables you created. Try to identify any potential issues with the data before moving onto the next screen."
   ]
  },
  {
   "cell_type": "code",
   "execution_count": null,
   "metadata": {},
   "outputs": [],
   "source": [
    "rank = f500[\"rank\"]\n",
    "rank_desc = rank.describe()\n",
    "\n",
    "prev_rank = f500[\"previous_rank\"]\n",
    "prev_rank_desc = prev_rank.describe()"
   ]
  },
  {
   "cell_type": "markdown",
   "metadata": {},
   "source": [
    "### Pandas 문제풀이 1-5\n",
    "\n",
    "1. Use Series.value_counts() and Series.loc to return the number of companies with a value of 0 in the previous_rank column in the f500 dataframe. Assign the results to zero_previous_rank.\n",
    "2. After running your code, use the variable inspector to view each of the new variables you created."
   ]
  },
  {
   "cell_type": "code",
   "execution_count": null,
   "metadata": {},
   "outputs": [],
   "source": [
    "zero_previous_rank = f500[\"previous_rank\"].value_counts().loc[0]"
   ]
  },
  {
   "cell_type": "markdown",
   "metadata": {},
   "source": [
    "### Pandas 문제풀이 1-6\n",
    "\n",
    "1. Use the DataFrame.max() method to find the maximum value for only the numeric columns from f500 (you may need to check the documentation). Assign the result to the variable max_f500.\n",
    "2. After running your code, use the variable inspector to view each of the new variables you created. Try to identify any potential issues with the data before moving on to the next screen."
   ]
  },
  {
   "cell_type": "code",
   "execution_count": null,
   "metadata": {},
   "outputs": [],
   "source": [
    "max_f500 = f500.max(numeric_only=True)"
   ]
  },
  {
   "cell_type": "markdown",
   "metadata": {},
   "source": [
    "### Pandas 문제풀이 1-7\n",
    "\n",
    "1. Return a dataframe of descriptive statistics for all of the numeric columns in f500. Assign the result to f500_desc.\n",
    "2. After you have run your code, use the variable inspector to view each of the new variables you created. Try to identify any potential issues with the data before moving onto the next screen."
   ]
  },
  {
   "cell_type": "code",
   "execution_count": null,
   "metadata": {},
   "outputs": [],
   "source": [
    "f500_desc = f500.describe()"
   ]
  },
  {
   "cell_type": "markdown",
   "metadata": {},
   "source": [
    "### Pandas 문제풀이 1-8\n",
    "\n",
    "1. The company \"Dow Chemical\" has named a new CEO. Update the value where the row label is Dow Chemical and for the ceo column to Jim Fitterling in the f500 dataframe."
   ]
  },
  {
   "cell_type": "code",
   "execution_count": null,
   "metadata": {},
   "outputs": [],
   "source": [
    "f500.loc[\"Dow Chemical\",\"ceo\"] = \"Jim Fitterling\""
   ]
  },
  {
   "cell_type": "markdown",
   "metadata": {},
   "source": [
    "### Pandas 문제풀이 1-9\n",
    "\n",
    "1. Create a boolean series, motor_bool, that compares whether the values in the industry column from the f500 dataframe are equal to \"Motor Vehicles and Parts\".\n",
    "2. Use the motor_bool boolean series to index the country column. Assign the result to motor_countries.\n",
    "3. After running your code, use the variable inspector to view each of the new variables you created."
   ]
  },
  {
   "cell_type": "code",
   "execution_count": null,
   "metadata": {},
   "outputs": [],
   "source": [
    "motor_bool = f500[\"industry\"] == \"Motor Vehicles and Parts\"\n",
    "motor_countries = f500.loc[motor_bool, \"country\"]"
   ]
  },
  {
   "cell_type": "markdown",
   "metadata": {},
   "source": [
    "### Pandas 문제풀이 1-10\n",
    "\n",
    "1. Use boolean indexing to update values in the previous_rank column of the f500 dataframe:\n",
    "\n",
    "** There should now be a value of np.nan where there previously was a value of 0.\n",
    "\n",
    "** It is up to you whether you assign the boolean series to its own variable first, or whether you complete the operation in one line.\n",
    "\n",
    "2. Create a new pandas series, prev_rank_after, using the same syntax that was used to create the prev_rank_before series.\n",
    "3. After running your code, use the variable inspector to compare prev_rank_before and prev_rank_after."
   ]
  },
  {
   "cell_type": "code",
   "execution_count": null,
   "metadata": {},
   "outputs": [],
   "source": [
    "import numpy as np\n",
    "prev_rank_before = f500[\"previous_rank\"].value_counts(dropna=False).head()\n",
    "f500.loc[f500[\"previous_rank\"] == 0, \"previous_rank\"] = np.nan\n",
    "prev_rank_after = f500[\"previous_rank\"].value_counts(dropna=False).head()"
   ]
  },
  {
   "cell_type": "markdown",
   "metadata": {},
   "source": [
    "### Pandas 문제풀이 1-11\n",
    "\n",
    "1. Add a new column named rank_change to the f500 dataframe by subtracting the values in the rank column from the values in the previous_rank column.\n",
    "2. Use the Series.describe() method to return a series of descriptive statistics for the rank_change column. Assign the result to rank_change_desc.\n",
    "3. After running your code, use the variable inspector to view each of the new variables you created. Verify that the minimum value of the rank_change column is now greater than -500."
   ]
  },
  {
   "cell_type": "code",
   "execution_count": null,
   "metadata": {},
   "outputs": [],
   "source": [
    "f500[\"rank_change\"] = f500[\"previous_rank\"] - f500[\"rank\"]\n",
    "rank_change_desc = f500[\"rank_change\"].describe()"
   ]
  },
  {
   "cell_type": "markdown",
   "metadata": {},
   "source": [
    "### Pandas 문제풀이 1-12\n",
    "\n",
    "1. Create a series, industry_usa, containing counts of the two most common values in the industry column for companies headquartered in the USA.\n",
    "2. Create a series, sector_china, containing counts of the three most common values in the sector column for companies headquartered in the China."
   ]
  },
  {
   "cell_type": "code",
   "execution_count": null,
   "metadata": {},
   "outputs": [],
   "source": [
    "industry_usa = f500[\"industry\"][f500[\"country\"] == \"USA\"].value_counts().head(2)\n",
    "sector_china = f500[\"sector\"][f500[\"country\"] == \"China\"].value_counts().head(3)"
   ]
  },
  {
   "cell_type": "markdown",
   "metadata": {},
   "source": [
    "## Data quest의 Pandas 문제풀이 2"
   ]
  },
  {
   "cell_type": "markdown",
   "metadata": {},
   "source": [
    "### Pandas 문제풀이 2-1\n",
    "\n",
    "We've already read the data set into a pandas dataframe and assigned it to a variable named f500. We also replaced all 0 values in the previous_rank column with NaN, like we did in the previous mission.\n",
    "\n",
    "1. Select the rank, revenues, and revenue_change columns in f500. Then, use the DataFrame.head() method to select the first five rows. Assign the result to f500_selection.\n",
    "2. Use the variable inspector to view f500_selection. Compare the results to the first few lines of our CSV file above.\n",
    "3. Take a look at the documentation for the pandas.read_csv() function to try to understand the results. If you have trouble understanding, don't worry! We'll explain the results on the next screen."
   ]
  },
  {
   "cell_type": "code",
   "execution_count": null,
   "metadata": {},
   "outputs": [],
   "source": [
    "import pandas as pd\n",
    "\n",
    "f500 = pd.read_csv(\"f500.csv\", index_col=0)\n",
    "f500.index.name = None\n",
    "\n",
    "f500.loc[f500[\"previous_rank\"] == 0, \"previous_rank\"] = np.nan\n",
    "f500_selection = f500[['rank', 'revenues', 'revenue_change']].head()"
   ]
  },
  {
   "cell_type": "markdown",
   "metadata": {},
   "source": [
    "### Pandas 문제풀이 2-2\n",
    "\n",
    "1. Use the pandas.read_csv() function to read the f500.csv CSV file as a pandas dataframe. Assign it to the variable name f500.\n",
    "2. Do not use the index_col parameter.\n",
    "3. Use the code below to insert the NaN values into the previous_rank column: f500.loc[f500[\"previous_rank\"] == 0, \"previous_rank\"] = np.nan"
   ]
  },
  {
   "cell_type": "code",
   "execution_count": null,
   "metadata": {},
   "outputs": [],
   "source": [
    "f500 = pd.read_csv(\"f500.csv\")\n",
    "f500.loc[f500[\"previous_rank\"] == 0, \"previous_rank\"] = np.nan"
   ]
  },
  {
   "cell_type": "markdown",
   "metadata": {},
   "source": [
    "### Pandas 문제풀이 2-3\n",
    "\n",
    "1. Select just the fifth row of the f500 dataframe. Assign the result to fifth_row.\n",
    "2. Select the value in first row of the company column. Assign the result to company_value."
   ]
  },
  {
   "cell_type": "code",
   "execution_count": null,
   "metadata": {},
   "outputs": [],
   "source": [
    "fifth_row = f500.iloc[4]\n",
    "company_value = f500.iloc[0,0]"
   ]
  },
  {
   "cell_type": "markdown",
   "metadata": {},
   "source": [
    "### Pandas 문제풀이 2-4\n",
    "\n",
    "1. Select the first three rows of the f500 dataframe. Assign the result to first_three_rows.\n",
    "2. Select the first and seventh rows and the first five columns of the f500 dataframe. Assign the result to first_seventh_row_slice.\n",
    "3. After running your code, use the variable inspector to examine each of the objects you created."
   ]
  },
  {
   "cell_type": "code",
   "execution_count": null,
   "metadata": {},
   "outputs": [],
   "source": [
    "first_three_rows = f500[:3]\n",
    "first_seventh_row_slice = f500.iloc[[0, 6], :5]"
   ]
  },
  {
   "cell_type": "markdown",
   "metadata": {},
   "source": [
    "### Pandas 문제풀이 2-5\n",
    "\n",
    "1. Use the Series.isnull() method to select all rows from f500 that have a null value for the previous_rank column. Select only the company, rank, and previous_rank columns. Assign the result to null_previous_rank."
   ]
  },
  {
   "cell_type": "code",
   "execution_count": null,
   "metadata": {},
   "outputs": [],
   "source": [
    "null_previous_rank = f500[f500[\"previous_rank\"].isnull()][[\"company\",\"rank\", \"previous_rank\"]]"
   ]
  },
  {
   "cell_type": "markdown",
   "metadata": {},
   "source": [
    "### Pandas 문제풀이 2-6\n",
    "\n",
    "1. Assign the first five rows of the null_previous_rank dataframe to the variable top5_null_prev_rank by choosing the correct method out of either loc[] or iloc[]."
   ]
  },
  {
   "cell_type": "code",
   "execution_count": null,
   "metadata": {},
   "outputs": [],
   "source": [
    "null_previous_rank = f500[f500[\"previous_rank\"].isnull()]\n",
    "top5_null_prev_rank = null_previous_rank.iloc[:5]"
   ]
  },
  {
   "cell_type": "markdown",
   "metadata": {},
   "source": [
    "### Pandas 문제풀이 2-7\n",
    "\n",
    "1. Use the Series.notnull() method to select all rows from f500 that have a non-null value for the previous_rank column. Assign the result to previously_ranked\n",
    "2. From the previously_ranked dataframe, subtract the rank column from the previous_rank column. Assign the result to rank_change.\n",
    "3. Assign the values in the rank_change to a new column in the f500 dataframe, \"rank_change\".\n",
    "4. Once you have run your code, use the variable inspector to look at the f500 dataframe and observe how the new column aligns with the existing data."
   ]
  },
  {
   "cell_type": "code",
   "execution_count": null,
   "metadata": {},
   "outputs": [],
   "source": [
    "previously_ranked = f500[f500[\"previous_rank\"].notnull()]\n",
    "rank_change = previously_ranked[\"previous_rank\"] - previously_ranked[\"rank\"]\n",
    "f500[\"rank_change\"] = rank_change"
   ]
  },
  {
   "cell_type": "markdown",
   "metadata": {},
   "source": [
    "### Pandas 문제풀이 2-8\n",
    "\n",
    "1. Select all companies with revenues over 100 billion and negative profits from the f500 dataframe. The result should include all columns.\n",
    "2. Create a boolean array that selects the companies with revenues greater than 100 billion. Assign the result to large_revenue.\n",
    "3. Create a boolean array that selects the companies with profits less than 0. Assign the result to negative_profits.\n",
    "4. Combine large_revenue and negative_profits. Assign the result to combined.\n",
    "5. Use combined to filter f500. Assign the result to big_rev_neg_profit."
   ]
  },
  {
   "cell_type": "code",
   "execution_count": null,
   "metadata": {},
   "outputs": [],
   "source": [
    "large_revenue = f500[\"revenues\"] > 100000\n",
    "negative_profits = f500[\"profits\"] < 0\n",
    "combined = large_revenue & negative_profits\n",
    "big_rev_neg_profit = f500[combined]"
   ]
  },
  {
   "cell_type": "markdown",
   "metadata": {},
   "source": [
    "### Pandas 문제풀이 2-9\n",
    "\n",
    "1. Select all rows for companies whose country value is either Brazil or Venezuela. Assign the result to brazil_venezuela.\n",
    "2. Select the first five companies in the Technology sector for which the country is not the USA from the f500 dataframe. Assign the result to tech_outside_usa."
   ]
  },
  {
   "cell_type": "code",
   "execution_count": null,
   "metadata": {},
   "outputs": [],
   "source": [
    "a = (f500[\"country\"] == \"Brazil\") | (f500[\"country\"] == \"Venezuela\")\n",
    "brazil_venezuela = f500[a]\n",
    "\n",
    "b = (f500[\"sector\"] == \"Technology\") & ~(f500[\"country\"] == \"USA\")\n",
    "tech_outside_usa = f500[b].head()"
   ]
  },
  {
   "cell_type": "markdown",
   "metadata": {},
   "source": [
    "### Pandas 문제풀이 2-10\n",
    "\n",
    "1. Find the company headquartered in Japan with the largest number of employees.\n",
    "\n",
    "** Select only the rows that have a country name equal to Japan.\n",
    "\n",
    "** Use DataFrame.sort_values() to sort those rows by the employees column in descending order.\n",
    "\n",
    "** Use DataFrame.iloc[] to select the first row from the sorted dataframe.\n",
    "\n",
    "** Extract the company name from the index label company from the first row.\n",
    "\n",
    "** Assign the result to top_japanese_employer.\n",
    "\n",
    "2. After running your code, use the variable inspector to view the top employer for Japan."
   ]
  },
  {
   "cell_type": "code",
   "execution_count": null,
   "metadata": {},
   "outputs": [],
   "source": [
    "a = f500[f500[\"country\"] == \"Japan\"]\n",
    "b = a.sort_values(\"employees\", ascending=False)\n",
    "top_japanese_employer = sorted_rows.iloc[0][\"company\"]"
   ]
  },
  {
   "cell_type": "markdown",
   "metadata": {},
   "source": [
    "### Pandas 문제풀이 2-11\n",
    "\n",
    " In this exercise, we're going to produce the following dictionary of the top employer in each country:\n",
    " \n",
    "{'Australia': 'Wesfarmers',\n",
    "\n",
    " 'Belgium': 'Anheuser-Busch InBev',\n",
    " \n",
    " 'Brazil': 'JBS',\n",
    " \n",
    " ...\n",
    " 'U.A.E': 'Emirates Group',\n",
    " \n",
    " 'USA': 'Walmart'\n",
    " ,\n",
    " 'Venezuela': 'Mercantil Servicios Financieros'}\n",
    " \n",
    "1. Create an empty dictionary, top_employer_by_country to store the results of the exercise.\n",
    "2. Use the Series.unique() method to create an array of unique values from the country column.\n",
    "3. Use a for loop to iterate over the array unique countries. In each iteration:\n",
    "\n",
    "** Select only the rows that have a country name equal to the current iteration.\n",
    "\n",
    "** Use DataFrame.sort_values() to sort those rows by the employees column in descending order.\n",
    "\n",
    "** Select the first row from the sorted dataframe.\n",
    "\n",
    "** Extract the company name from the index label company from the first row.\n",
    "\n",
    "**  Assign the results to the top_employer_by_country dictionary, using the country name as the key, and the company name as the value.\n",
    "\n",
    "4. After running your code, use the variable inspector to view the top employer for each country."
   ]
  },
  {
   "cell_type": "code",
   "execution_count": null,
   "metadata": {},
   "outputs": [],
   "source": [
    "top_employer_by_country = {}\n",
    "\n",
    "countries = f500[\"country\"].unique()\n",
    "for c in countries:\n",
    "    a = f500[f500[\"country\"] == c]\n",
    "    b = a.sort_values(\"employees\", ascending=False)\n",
    "    top_employer = b.iloc[0]\n",
    "    employer_name = top_employer[\"company\"]\n",
    "    top_employer_by_country[c] = employer_name"
   ]
  },
  {
   "cell_type": "markdown",
   "metadata": {},
   "source": [
    "### Pandas 문제풀이 2-12\n",
    "1. Create a new column roa in the f500 dataframe, containing the return on assets metric for each company.\n",
    "\n",
    "2. Aggregate the data by the sector column, and create a dictionary top_roa_by_sector, with:\n",
    "* Dictionary keys with the sector name.\n",
    "- Dictionary values with the company name with the highest ROA value from that sector."
   ]
  },
  {
   "cell_type": "code",
   "execution_count": null,
   "metadata": {},
   "outputs": [],
   "source": [
    "f500['roa'] = f500['profits'] / f500['assets']\n",
    "f500.head(1)\n",
    "\n",
    "top_roa_by_sector = {}\n",
    "for s in f500['sector'].unique():\n",
    "    a = f500['sector'] == s\n",
    "    b = f500.loc[a]\n",
    "    top_company = b.sort_values('roa', ascending = False).iloc[0]\n",
    "    company_name = top_company['company']\n",
    "    top_roa_by_sector[s] = company_name"
   ]
  }
 ],
 "metadata": {
  "kernelspec": {
   "display_name": "Python 3",
   "language": "python",
   "name": "python3"
  },
  "language_info": {
   "codemirror_mode": {
    "name": "ipython",
    "version": 3
   },
   "file_extension": ".py",
   "mimetype": "text/x-python",
   "name": "python",
   "nbconvert_exporter": "python",
   "pygments_lexer": "ipython3",
   "version": "3.7.6"
  },
  "toc": {
   "base_numbering": 1,
   "nav_menu": {},
   "number_sections": true,
   "sideBar": true,
   "skip_h1_title": false,
   "title_cell": "Table of Contents",
   "title_sidebar": "Contents",
   "toc_cell": false,
   "toc_position": {},
   "toc_section_display": true,
   "toc_window_display": false
  }
 },
 "nbformat": 4,
 "nbformat_minor": 4
}
